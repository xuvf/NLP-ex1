{
 "cells": [
  {
   "cell_type": "code",
   "execution_count": 34,
   "metadata": {
    "scrolled": true
   },
   "outputs": [
    {
     "name": "stdout",
     "output_type": "stream",
     "text": [
      "388\n"
     ]
    }
   ],
   "source": [
    "import json,nltk,re,datetime,collections\n",
    "from nltk.stem import WordNetLemmatizer\n",
    "from nltk.corpus import wordnet\n",
    "from nltk import word_tokenize, pos_tag\n",
    "from nltk.util import ngrams\n",
    "\n",
    "def read_words(filename):\n",
    "    f = open(filename,'r').read().split(\"\\n\")\n",
    "    return dict(zip(f,[1]*len(f)))\n",
    "\n",
    "if __name__ == \"__main__\":\n",
    "    #Start Timer\n",
    "    start_time = datetime.datetime.now()\n",
    "\n",
    "    f = open(\"signal-news1.jsonl\",\"r\")\n",
    "    positive = read_words(\"opinion-lexicon-English/positive-words.txt\")\n",
    "    negative = read_words(\"opinion-lexicon-English/negative-words.txt\")\n",
    "\n",
    "    data = []\n",
    "    pos_story = 0\n",
    "    neg_story = 0\n",
    "    pos_words = 0\n",
    "    neg_words = 0\n",
    "    temp_set = []\n",
    "    temp_tokens = []\n",
    "    lmtzr = WordNetLemmatizer()\n",
    "    pos_tag_dict = {}\n",
    "\n",
    "    trigrams = []\n",
    "\n",
    "    for line in f :\n",
    "        temp = json.loads(line).get(\"content\")\n",
    "    \n",
    "        # Lower the characters\n",
    "        temp = temp.lower()\n",
    "    \n",
    "        #Q1.d remove all URLs\n",
    "        rule = re.compile(r\"http(s)?://[-A-Za-z0-9+&@#/%?=~_|!:,.;]+[-A-Za-z0-9+&@#/%=~_|]\")\n",
    "        temp = rule.sub('', temp)\n",
    "    \n",
    "        #Q1.a remove all non-alphacharacters except spaces\n",
    "        rule = re.compile(r'[^a-z0-9]+')\n",
    "        temp = rule.sub(' ',temp)\n",
    "    \n",
    "        #Q1.b remove all words within 3 characters\n",
    "        rule = re.compile(r'\\W*\\b\\w{1}\\b')\n",
    "        temp = rule.sub('', temp)\n",
    "    \n",
    "        #Q1.c remove numbers that are fully made of digits\n",
    "        rule = re.compile(r\"([0-9]+ )\")\n",
    "        temp = rule.sub('', temp)\n",
    "    \n",
    "    \n",
    "        #Q2 POS tagger\n",
    "        temp = word_tokenize(temp)\n",
    "        postag = []\n",
    "        \n",
    "        for word in temp:\n",
    "            if word in pos_tag_dict:\n",
    "                postag.append((word,pos_tag_dict[word]))\n",
    "            else:\n",
    "                tagofword = nltk.pos_tag([word])\n",
    "                tag = nltk.pos_tag([word])[0][1]\n",
    "                pos_tag_dict[word] = tag\n",
    "                postag.append((word,pos_tag_dict[word]))\n",
    "                \n",
    "              \n",
    "        #if pos was not setted, then lemmatize may not be useful\n",
    "        temp = []\n",
    "        for word, tag in postag:\n",
    "            if tag.startswith('J'):\n",
    "                word = lmtzr.lemmatize(word, wordnet.ADJ)\n",
    "            elif tag == \"VBP\" or tag == \"VBZ\":\n",
    "                word = word\n",
    "            elif tag.startswith('V'):\n",
    "                word = lmtzr.lemmatize(word, wordnet.VERB)\n",
    "            elif tag.startswith('N'):\n",
    "                word = lmtzr.lemmatize(word, wordnet.NOUN)\n",
    "            elif tag.startswith('R'):\n",
    "                word = lmtzr.lemmatize(word, wordnet.ADV)\n",
    "            elif tag.startswith('I'):\n",
    "                word = lmtzr.lemmatize(word, wordnet.ADJ)\n",
    "            else :\n",
    "                word = word\n",
    "            temp.append(word)\n",
    "            \n",
    "        \n",
    "#         temp_tokens.extend(temp)\n",
    "#         trigrams.extend(list(ngrams(temp,3)))\n",
    "        \n",
    "#         pos = 0\n",
    "#         neg = 0\n",
    "      \n",
    "#         for i in temp:\n",
    "#             if i in positive:\n",
    "#                 pos += 1\n",
    "#             elif i in negative:\n",
    "#                 neg += 1\n",
    "      \n",
    "#         if pos > neg :\n",
    "#             pos_story += 1\n",
    "#         elif pos < neg :\n",
    "#             neg_story += 1\n",
    "\n",
    "#         pos_words += pos\n",
    "#         neg_words += neg\n",
    "#         data.append(temp)\n",
    "\n",
    "#     trigram_base = []\n",
    "#     for i in range(16000):\n",
    "#         trigram_base.extend(list(ngrams(data[i],3)))\n",
    "    \n",
    "    \n",
    "#     sentence = [\"is\",\"this\"]\n",
    "#     for i in range(8):\n",
    "#         trigram_list = []\n",
    "#         for t in trigram_base:\n",
    "#             if t[0] == sentence[-2] and t[1] == sentence[-1]:\n",
    "#                 trigram_list.append(t)\n",
    "#         sentence.append(collections.Counter(trigram_list).most_common()[0][0][-1])\n",
    "#     print(sentence)\n",
    "        \n",
    "#     trigrams = collections.Counter(trigrams).most_common(25)\n",
    "#     temp_set = set(temp_tokens)\n",
    "    end_time = datetime.datetime.now()\n",
    "    interval = (end_time-start_time).seconds\n",
    "\n",
    "    print(interval)\n",
    "#     print(\"Number of tokens:\",len(temp_tokens))\n",
    "#     print(\"Vocabulary size is: \", len(temp_set))\n",
    "#     print(\"pos_words\",pos_words)\n",
    "#     print(\"neg_words\",neg_words)\n",
    "#     print(\"pos_story:\",pos_story)\n",
    "#     print(\"neg_story:\",neg_story)\n",
    "#     print(trigrams)\n",
    "#    print(data[6])"
   ]
  },
  {
   "cell_type": "code",
   "execution_count": 4,
   "metadata": {
    "scrolled": true
   },
   "outputs": [
    {
     "name": "stdout",
     "output_type": "stream",
     "text": [
      "182686\n",
      "146470\n"
     ]
    }
   ],
   "source": [
    "print(pos_words)\n",
    "print(neg_words)"
   ]
  },
  {
   "cell_type": "code",
   "execution_count": 30,
   "metadata": {},
   "outputs": [
    {
     "name": "stdout",
     "output_type": "stream",
     "text": [
      "['is', 'this', 'the', 'company', 'has', 'market', 'capitalization', 'of', 'billion', 'and', 'pe', 'ratio']\n"
     ]
    }
   ],
   "source": [
    "from nltk.util import ngrams\n",
    "trigram_base = []\n",
    "for i in range(16000):\n",
    "    trigram_base.extend(list(ngrams(data[i],3)))\n",
    "    \n",
    "    \n",
    "sentence = [\"is\",\"this\"]\n",
    "for i in range(8):\n",
    "    trigram_list = []\n",
    "    for t in trigram_base:\n",
    "        if t[0] == sentence[-2] and t[1] == sentence[-1]:\n",
    "            trigram_list.append(t)\n",
    "    sentence.append(collections.Counter(trigram_list).most_common()[0][0][-1])\n",
    "print(sentence)"
   ]
  },
  {
   "cell_type": "code",
   "execution_count": null,
   "metadata": {},
   "outputs": [],
   "source": []
  }
 ],
 "metadata": {
  "kernelspec": {
   "display_name": "Python 3",
   "language": "python",
   "name": "python3"
  },
  "language_info": {
   "codemirror_mode": {
    "name": "ipython",
    "version": 3
   },
   "file_extension": ".py",
   "mimetype": "text/x-python",
   "name": "python",
   "nbconvert_exporter": "python",
   "pygments_lexer": "ipython3",
   "version": "3.7.0"
  }
 },
 "nbformat": 4,
 "nbformat_minor": 2
}
