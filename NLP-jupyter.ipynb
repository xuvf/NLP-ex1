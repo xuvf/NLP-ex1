{
 "cells": [
  {
   "cell_type": "code",
   "execution_count": 38,
   "metadata": {},
   "outputs": [
    {
     "name": "stdout",
     "output_type": "stream",
     "text": [
      "when brian grey   figure   value   landmark home known   flintstone house  appraiser couldnt look  comparable residences with  clump  bubbleshaped rooms  home seemed  spring    hannabarbera   some unusual homes    market  making headlines counterclockwise  rock house  volcano house  flintstone house  palazzo  amore composite  marilyn kalfus photos jeff gritchen leonard ortiz michael mcnamara open homes photography some unusual homes    market  making headlines counterclockwise  rock house  volcano house  flintstone house  palazzo  amorecomposite  marilyn kalfus photos jeff gritchen leonard ortiz michael mcnamara open homes photography when brian grey   figure   value   landmark home known   flintstone house  appraiser couldnt look  comparable residences with  clump  bubbleshaped rooms  home seemed  spring    hannabarbera cartoon grey quickly realized  just dont have another house thats like this  that didnt make  property  white elephant though when grey asked several real estate agents    area whether there   market   unusual home  recalled  consensus  theres constant demand  sure enough  buyer snapped    800000 nearly  decades later  quirky marvel  remodeled  enhanced     market again this time   million    several outoftheordinary dwellings that have been making headlines lately   mojave desert  house shaped like  spaceship     150foot cinder cone   extinct volcano  listed  650000 earlier this month  went into escrow friday  property   acres with  lake  multiple offers  beverly hills  sprawling compound touted   priciest home    last year just took   million price  despite their differences houses like these raise  common question  does anyone  real estate professionals sellers  buyers  figure  what offthewall overthetop homes  worth  volcano house  owned   personality huell howser  gave   chapman university  2012  year before  death  university  originally planned    house  desert studies astronomy  geology pursuits   selling  property because  desert location  newberry springs east  barstow  deemed  isolated  students brady sandahl   sothebys international realty says   another agent listing  house considered other architecturally significant properties mostly   high desert  coming  with  650000 price   just develop  business    what  think  market will capture  said then  turn   buyers  theyll tell   theyre giving  what theyre giving  thats  beauty   open market  sandahl said  multiple offers  received show  asking price  appropriate three offers came   650000  more  clearly  price  would  higher   property wasnt  remote this  real estate said grey  appraised  flintstone house  first three rules  real estate  location location location   flintstone house    opposite side  that rule   miles from  francisco  right near i280  major freeway when youre   yard   flintstone house grey said  hear that freeway very clearly  while  noise outside  home   minus   plus side grey said  house itself  nearly soundproof  like being   cave   attributes that   construction steel rebar  wire mesh frames were built over large inflated weather balloons then covered with gunite  shotcrete  said that makes  walls thicker than  typical homes appraising even unusual homes involves  basics grey said size number  rooms quality  finishes  condition   factors considered  addition  location those  relevant   house  matter  unusual  historical  plain    said  comps with  truly comparable homes grey said  used  bracketing system  determine where  flintstone house    spectrum  placed  areas highend tudor homes  plain ranch homes  opposite ends appraising something   quite   more  than science  said  terms  appraising that house    right   middle     make comparisons with unusual homes elsewhere   country  said with land value varying greatly  explained  could  avoiding  adjustment regarding  design   house  making  huge adjustment   difference  location   southern california realtors joyce   stacy gottula  coldwell banker previews international cast  considerably wider   come  with palazzo  amores  million price  which  since dropped   million  agents said they looked   most expensive homes worldwide  25acre compound with   vineyard  beverly hills  touted   most expensive    when  came   market last year  gated 12bedroom 23bathroom property  eight years   making  reached   quartermile treelined drive    guard station  twolevel entertainment center with  50seat screening room   bowling alley  entered through  floating glassfloor walkway over pools lined  70yearold olive trees  main residence tops 35000 square feet while  entire estate  more than 53000 square feet  living space theres garage parking   cars though  site  easily accommodate parking  approximately  cars according   listing there    comps  really have  look   history  sales   area  well   global sales gottula said theyre going    global citizen  some kind  said   likely buyers theyre going  have houses  various places  theyre going   looking   probability    those markets   realtors considered  highest sales  london hong kong france  elsewhere they \n"
     ]
    }
   ],
   "source": [
    "import json\n",
    "import nltk\n",
    "import re\n",
    "\n",
    "f = open(\"1.json\",\"r\")\n",
    "\n",
    "data = []\n",
    "\n",
    "for line in f :\n",
    "    data.append(json.loads(line).get(\"content\"))\n",
    "\n",
    "# Lower the characters\n",
    "data[0] = data[0].lower()\n",
    "\n",
    "\n",
    "#Q1 remove all non-alphacharacters except spaces\n",
    "rule = re.compile(\"[^a-z0-9 ]\")\n",
    "data[0] = rule.sub('',data[0])\n",
    "\n",
    "#Q2 remove all words within 3 characters\n",
    "rule = re.compile(r\"\\b\\w{1,3}\\b\")\n",
    "data[0] = rule.sub('', data[0])\n",
    "\n",
    "#Q3 remove numbers that are fully made of digits\n",
    "rule = re.compile(r\"^[0-9]*$\")\n",
    "data[0] = rule.sub('', data[0])\n",
    "print(data[0])"
   ]
  },
  {
   "cell_type": "code",
   "execution_count": null,
   "metadata": {},
   "outputs": [],
   "source": []
  },
  {
   "cell_type": "code",
   "execution_count": null,
   "metadata": {},
   "outputs": [],
   "source": []
  }
 ],
 "metadata": {
  "kernelspec": {
   "display_name": "Python 3",
   "language": "python",
   "name": "python3"
  },
  "language_info": {
   "codemirror_mode": {
    "name": "ipython",
    "version": 3
   },
   "file_extension": ".py",
   "mimetype": "text/x-python",
   "name": "python",
   "nbconvert_exporter": "python",
   "pygments_lexer": "ipython3",
   "version": "3.7.0"
  }
 },
 "nbformat": 4,
 "nbformat_minor": 2
}
