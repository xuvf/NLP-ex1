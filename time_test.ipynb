{
 "cells": [
  {
   "cell_type": "code",
   "execution_count": null,
   "metadata": {
    "scrolled": false
   },
   "outputs": [],
   "source": [
    "import json\n",
    "import nltk\n",
    "import re\n",
    "import datetime\n",
    "\n",
    "#Start Timer\n",
    "start_time = datetime.datetime.now()\n",
    "\n",
    "f = open(\"signal-news1.jsonl\",\"r\")\n",
    "temp = \"\"\n",
    "data = []\n",
    "N = 0\n",
    "V = 0\n",
    "\n",
    "for line in f :\n",
    "    temp += json.loads(line).get(\"content\")\n",
    "    \n",
    "end_time = datetime.datetime.now()\n",
    "interval = (end_time-start_time).seconds\n",
    "\n",
    "print(interval)\n",
    "print(temp)"
   ]
  },
  {
   "cell_type": "code",
   "execution_count": 5,
   "metadata": {},
   "outputs": [
    {
     "data": {
      "text/plain": [
       "str"
      ]
     },
     "execution_count": 5,
     "metadata": {},
     "output_type": "execute_result"
    }
   ],
   "source": [
    "type(temp)"
   ]
  },
  {
   "cell_type": "code",
   "execution_count": null,
   "metadata": {},
   "outputs": [],
   "source": []
  }
 ],
 "metadata": {
  "kernelspec": {
   "display_name": "Python 3",
   "language": "python",
   "name": "python3"
  },
  "language_info": {
   "codemirror_mode": {
    "name": "ipython",
    "version": 3
   },
   "file_extension": ".py",
   "mimetype": "text/x-python",
   "name": "python",
   "nbconvert_exporter": "python",
   "pygments_lexer": "ipython3",
   "version": "3.7.0"
  }
 },
 "nbformat": 4,
 "nbformat_minor": 2
}
