{
 "cells": [
  {
   "cell_type": "code",
   "execution_count": 25,
   "metadata": {
    "scrolled": true
   },
   "outputs": [
    {
     "name": "stdout",
     "output_type": "stream",
     "text": [
      "456\n",
      "Number of tokens: 5762073\n",
      "Vocabulary size is:  93721\n",
      "[('the', 338803), ('to', 150836), ('of', 148410), ('and', 139888), ('in', 117219), ('be', 85541), ('on', 66838), ('for', 58297), ('it', 57376), ('that', 56951), ('is', 54214), ('with', 43859), ('have', 39028), ('at', 36883), ('as', 33535), ('has', 28833), ('from', 28801), ('he', 27535), ('by', 26547), ('say', 25873), ('are', 23429), ('this', 23166), ('an', 23053), ('his', 22129), ('but', 21491)]\n"
     ]
    }
   ],
   "source": [
    "import json,nltk,re,datetime,collections\n",
    "from nltk.stem import WordNetLemmatizer\n",
    "from nltk.corpus import wordnet\n",
    "from nltk import word_tokenize, pos_tag\n",
    "\n",
    "\n",
    "def read_words(filename):\n",
    "    \n",
    "\n",
    "\n",
    "if __name__ == \"__main__\":\n",
    "    #Start Timer\n",
    "    start_time = datetime.datetime.now()\n",
    "\n",
    "    f = open(\"signal-news1.jsonl\",\"r\")\n",
    "    positive = open(\"opinion-lexicon-English/positive-words.txt\",'r').read().split(\"\\n\")\n",
    "    negative = open(\"opinion-lexicon-English/negative-words.txt\",'r').read().split(\"\\n\")\n",
    "\n",
    "    data = []\n",
    "    pos_story = 0\n",
    "    neg_story = 0\n",
    "    pos_words = 0\n",
    "    neg_words = 0\n",
    "    temp_set = []\n",
    "    temp_tokens = []\n",
    "    lmtzr = WordNetLemmatizer()\n",
    "\n",
    "\n",
    "    for line in f :\n",
    "        temp = json.loads(line).get(\"content\")\n",
    "    \n",
    "        # Lower the characters\n",
    "        temp = temp.lower()\n",
    "    \n",
    "        #Q1.d remove all URLs\n",
    "        rule = re.compile(r\"http(s)?://[-A-Za-z0-9+&@#/%?=~_|!:,.;]+[-A-Za-z0-9+&@#/%=~_|]\")\n",
    "        temp = rule.sub('', temp)\n",
    "    \n",
    "        #Q1.a remove all non-alphacharacters except spaces\n",
    "        rule = re.compile(r'[^a-z0-9]+')\n",
    "        temp = rule.sub(' ',temp)\n",
    "    \n",
    "        #Q1.b remove all words within 3 characters\n",
    "        rule = re.compile(r'\\W*\\b\\w{1}\\b')\n",
    "        temp = rule.sub('', temp)\n",
    "    \n",
    "        #Q1.c remove numbers that are fully made of digits\n",
    "        rule = re.compile(r\"([0-9]+ )\")\n",
    "        temp = rule.sub('', temp)\n",
    "    \n",
    "    \n",
    "        #Q2 POS tagger\n",
    "        temp = nltk.word_tokenize(temp)\n",
    "        temp = nltk.pos_tag(temp)\n",
    "    \n",
    "        temp = list(map(lambda x : lmtzr.lemmatize(x[0],get_pos_tag(x[1])),temp))\n",
    "        \n",
    "        temp_tokens += temp\n",
    "        \n",
    "#         pos = 0\n",
    "#         neg = 0\n",
    "      \n",
    "#         for i in temp:\n",
    "#             if i in positive:\n",
    "#                 pos += 1\n",
    "#             elif i in negative:\n",
    "#                 neg += 1\n",
    "      \n",
    "#         if pos > neg :\n",
    "#             pos_story += 1\n",
    "#         elif pos < neg :\n",
    "#             neg_story += 1\n",
    "\n",
    "#         pos_words += pos\n",
    "#         neg_words += neg\n",
    "        data.append(temp)\n",
    "\n",
    "    trigrams = collections.Counter(temp_tokens).most_common(25)\n",
    "    temp_set = set(temp_tokens)\n",
    "    end_time = datetime.datetime.now()\n",
    "    interval = (end_time-start_time).seconds\n",
    "\n",
    "    print(interval)\n",
    "    print(\"Number of tokens:\",len(temp_tokens))\n",
    "    print(\"Vocabulary size is: \", len(temp_set))\n",
    "#     print(pos_story)\n",
    "#     print(neg_story)\n",
    "    print(trigrams)\n",
    "   # print(data[6])"
   ]
  },
  {
   "cell_type": "code",
   "execution_count": 4,
   "metadata": {
    "scrolled": true
   },
   "outputs": [
    {
     "name": "stdout",
     "output_type": "stream",
     "text": [
      "182686\n",
      "146470\n"
     ]
    }
   ],
   "source": [
    "print(pos_words)\n",
    "print(neg_words)"
   ]
  },
  {
   "cell_type": "code",
   "execution_count": 30,
   "metadata": {},
   "outputs": [
    {
     "name": "stdout",
     "output_type": "stream",
     "text": [
      "['is', 'this', 'the', 'company', 'has', 'market', 'capitalization', 'of', 'billion', 'and', 'pe', 'ratio']\n"
     ]
    }
   ],
   "source": [
    "from nltk.util import ngrams\n",
    "trigram_base = []\n",
    "for i in range(16000):\n",
    "    trigram_base.extend(list(ngrams(data[i],3)))\n",
    "    \n",
    "    \n",
    "sentence = [\"is\",\"this\"]\n",
    "for i in range(8):\n",
    "    trigram_list = []\n",
    "    for t in trigram_base:\n",
    "        if t[0] == sentence[-2] and t[1] == sentence[-1]:\n",
    "            trigram_list.append(t)\n",
    "    sentence.append(collections.Counter(trigram_list).most_common()[0][0][-1])\n",
    "print(sentence)"
   ]
  },
  {
   "cell_type": "code",
   "execution_count": null,
   "metadata": {},
   "outputs": [],
   "source": []
  }
 ],
 "metadata": {
  "kernelspec": {
   "display_name": "Python 3",
   "language": "python",
   "name": "python3"
  },
  "language_info": {
   "codemirror_mode": {
    "name": "ipython",
    "version": 3
   },
   "file_extension": ".py",
   "mimetype": "text/x-python",
   "name": "python",
   "nbconvert_exporter": "python",
   "pygments_lexer": "ipython3",
   "version": "3.7.0"
  }
 },
 "nbformat": 4,
 "nbformat_minor": 2
}
