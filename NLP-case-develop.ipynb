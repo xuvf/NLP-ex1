{
 "cells": [
  {
   "cell_type": "code",
   "execution_count": 24,
   "metadata": {
    "scrolled": false
   },
   "outputs": [
    {
     "name": "stdout",
     "output_type": "stream",
     "text": [
      "Number of Tokens: 644\n",
      "Vocabulary size is:  392\n"
     ]
    }
   ],
   "source": [
    "import json\n",
    "import nltk\n",
    "import re\n",
    "\n",
    "\n",
    "f = open(\"1.json\",\"r\")\n",
    "\n",
    "data = []\n",
    "N = 0\n",
    "\n",
    "for line in f :\n",
    "    data.append(json.loads(line).get(\"content\"))\n",
    "\n",
    "# Lower the characters\n",
    "data[0] = data[0].lower()\n",
    "\n",
    "#Q4 remove all URLs\n",
    "rule = re.compile(r\"http(s)?://[-A-Za-z0-9+&@#/%?=~_|!:,.;]+[-A-Za-z0-9+&@#/%=~_|]\")\n",
    "data[0] = rule.sub('', data[0])\n",
    "\n",
    "#Q1 remove all non-alphacharacters except spaces\n",
    "rule = re.compile(\"[^a-z0-9 ]\")\n",
    "data[0] = rule.sub('',data[0])\n",
    "\n",
    "#Q2 remove all words within 3 characters\n",
    "rule = re.compile(r\"\\b\\w{1,3}\\b\")\n",
    "data[0] = rule.sub('', data[0])\n",
    "\n",
    "#Q3 remove numbers that are fully made of digits\n",
    "rule = re.compile(r\"([0-9]+ )\")\n",
    "data[0] = rule.sub('', data[0])\n",
    "\n",
    "data[0] = nltk.word_tokenize(data[0])\n",
    "\n",
    "N = len(data[0])\n",
    "V = len(set(data[0]))\n",
    "#data[0] = nltk.pos_tag(data[0])\n",
    "#print(data[0])\n",
    "print(\"Number of Tokens:\",N )\n",
    "print(\"Vocabulary size is\", V)"
   ]
  },
  {
   "cell_type": "code",
   "execution_count": null,
   "metadata": {},
   "outputs": [],
   "source": []
  }
 ],
 "metadata": {
  "kernelspec": {
   "display_name": "Python 3",
   "language": "python",
   "name": "python3"
  },
  "language_info": {
   "codemirror_mode": {
    "name": "ipython",
    "version": 3
   },
   "file_extension": ".py",
   "mimetype": "text/x-python",
   "name": "python",
   "nbconvert_exporter": "python",
   "pygments_lexer": "ipython3",
   "version": "3.7.0"
  }
 },
 "nbformat": 4,
 "nbformat_minor": 2
}
