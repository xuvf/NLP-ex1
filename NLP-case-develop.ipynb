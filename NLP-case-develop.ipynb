{
 "cells": [
  {
   "cell_type": "code",
   "execution_count": 45,
   "metadata": {
    "scrolled": false
   },
   "outputs": [
    {
     "name": "stdout",
     "output_type": "stream",
     "text": [
      "['when', 'brian', 'grey', 'had', 'to', 'figure', 'out', 'the', 'value', 'of', 'landmark', 'home', 'known', 'as', 'the', 'flintstone', 'house', 'the', 'appraiser', 'couldnt', 'look', 'to', 'comparable', 'residences', 'with', 'its', 'clump', 'of', 'bubbleshaped', 'rooms', 'the', 'home', 'seemed', 'to', 'spring', 'out', 'of', 'hannabarbera', 'some', 'unusual', 'homes', 'are', 'on', 'the', 'market', 'and', 'making', 'headlines', 'counterclockwise', 'the', 'rock', 'house', 'the', 'volcano', 'house', 'the', 'flintstone', 'house', 'and', 'palazzo', 'di', 'amore', 'composite', 'by', 'marilyn', 'kalfus', 'photos', 'jeff', 'gritchen', 'leonard', 'ortiz', 'michael', 'mcnamara', 'open', 'homes', 'photography', 'some', 'unusual', 'homes', 'are', 'on', 'the', 'market', 'and', 'making', 'headlines', 'counterclockwise', 'the', 'rock', 'house', 'the', 'volcano', 'house', 'the', 'flintstone', 'house', 'and', 'palazzo', 'di', 'amorecomposite', 'by', 'marilyn', 'kalfus', 'photos', 'jeff', 'gritchen', 'leonard', 'ortiz', 'michael', 'mcnamara', 'open', 'homes', 'photography', 'when', 'brian', 'grey', 'had', 'to', 'figure', 'out', 'the', 'value', 'of', 'landmark', 'home', 'known', 'as', 'the', 'flintstone', 'house', 'the', 'appraiser', 'couldnt', 'look', 'to', 'comparable', 'residences', 'with', 'its', 'clump', 'of', 'bubbleshaped', 'rooms', 'the', 'home', 'seemed', 'to', 'spring', 'out', 'of', 'hannabarbera', 'cartoon', 'grey', 'quickly', 'realized', 'just', 'dont', 'have', 'another', 'house', 'thats', 'like', 'this', 'that', 'didnt', 'make', 'the', 'property', 'white', 'elephant', 'though', 'when', 'grey', 'asked', 'several', 'real', 'estate', 'agents', 'in', 'the', 'bay', 'area', 'whether', 'there', 'was', 'market', 'for', 'the', 'unusual', 'home', 'he', 'recalled', 'the', 'consensus', 'was', 'theres', 'constant', 'demand', 'sure', 'enough', 'buyer', 'snapped', 'it', 'up', 'for', 'nearly', 'two', 'decades', 'later', 'the', 'quirky', 'marvel', 'remodeled', 'and', 'enhanced', 'is', 'on', 'the', 'market', 'again', 'this', 'time', 'for', 'million', 'its', 'one', 'of', 'several', 'outoftheordinary', 'dwellings', 'that', 'have', 'been', 'making', 'headlines', 'lately', 'in', 'the', 'mojave', 'desert', 'house', 'shaped', 'like', 'spaceship', 'and', 'set', 'on', 'the', '150foot', 'cinder', 'cone', 'of', 'an', 'extinct', 'volcano', 'was', 'listed', 'at', 'earlier', 'this', 'month', 'and', 'went', 'into', 'escrow', 'friday', 'the', 'property', 'on', 'acres', 'with', 'lake', 'got', 'multiple', 'offers', 'in', 'beverly', 'hills', 'sprawling', 'compound', 'touted', 'as', 'the', 'priciest', 'home', 'in', 'the', 'us', 'last', 'year', 'just', 'took', 'million', 'price', 'cut', 'despite', 'their', 'differences', 'houses', 'like', 'these', 'raise', 'common', 'question', 'how', 'does', 'anyone', 'real', 'estate', 'professionals', 'sellers', 'or', 'buyers', 'figure', 'out', 'what', 'offthewall', 'overthetop', 'homes', 'are', 'worth', 'the', 'volcano', 'house', 'was', 'owned', 'by', 'tv', 'personality', 'huell', 'howser', 'who', 'gave', 'it', 'to', 'chapman', 'university', 'in', 'year', 'before', 'his', 'death', 'the', 'university', 'had', 'originally', 'planned', 'to', 'use', 'the', 'house', 'for', 'desert', 'studies', 'astronomy', 'and', 'geology', 'pursuits', 'but', 'its', 'selling', 'the', 'property', 'because', 'its', 'desert', 'location', 'in', 'newberry', 'springs', 'east', 'of', 'barstow', 'was', 'deemed', 'too', 'isolated', 'for', 'students', 'brady', 'sandahl', 'of', 'hom', 'sothebys', 'international', 'realty', 'says', 'he', 'and', 'another', 'agent', 'listing', 'the', 'house', 'considered', 'other', 'architecturally', 'significant', 'properties', 'mostly', 'in', 'the', 'high', 'desert', 'in', 'coming', 'up', 'with', 'the', 'price', 'tag', 'you', 'just', 'develop', 'business', 'gut', 'as', 'to', 'what', 'you', 'think', 'the', 'market', 'will', 'capture', 'he', 'said', 'then', 'you', 'turn', 'to', 'the', 'buyers', 'and', 'theyll', 'tell', 'you', 'why', 'theyre', 'giving', 'you', 'what', 'theyre', 'giving', 'you', 'thats', 'the', 'beauty', 'of', 'an', 'open', 'market', 'sandahl', 'said', 'the', 'multiple', 'offers', 'he', 'received', 'show', 'the', 'asking', 'price', 'was', 'appropriate', 'three', 'offers', 'came', 'in', 'at', 'or', 'more', 'but', 'clearly', 'the', 'price', 'tag', 'would', 'be', 'higher', 'if', 'the', 'property', 'wasnt', 'so', 'remote', 'this', 'is', 'real', 'estate', 'said', 'grey', 'who', 'appraised', 'the', 'flintstone', 'house', 'the', 'first', 'three', 'rules', 'of', 'real', 'estate', 'are', 'location', 'location', 'location', 'the', 'flintstone', 'house', 'is', 'on', 'the', 'opposite', 'side', 'of', 'that', 'rule', 'its', 'miles', 'from', 'san', 'francisco', 'and', 'right', 'near', 'i280', 'major', 'freeway', 'when', 'youre', 'in', 'the', 'yard', 'of', 'the', 'flintstone', 'house', 'grey', 'said', 'you', 'hear', 'that', 'freeway', 'very', 'clearly', 'while', 'the', 'noise', 'outside', 'the', 'home', 'is', 'minus', 'on', 'the', 'plus', 'side', 'grey', 'said', 'the', 'house', 'itself', 'is', 'nearly', 'soundproof', 'its', 'like', 'being', 'in', 'cave', 'he', 'attributes', 'that', 'to', 'the', 'construction', 'steel', 'rebar', 'and', 'wire', 'mesh', 'frames', 'were', 'built', 'over', 'large', 'inflated', 'weather', 'balloons', 'then', 'covered', 'with', 'gunite', 'or', 'shotcrete', 'he', 'said', 'that', 'makes', 'the', 'walls', 'thicker', 'than', 'typical', 'homes', 'appraising', 'even', 'unusual', 'homes', 'involves', 'the', 'basics', 'grey', 'said', 'size', 'number', 'of', 'rooms', 'quality', 'of', 'finishes', 'and', 'condition', 'are', 'all', 'factors', 'considered', 'in', 'addition', 'to', 'location', 'those', 'are', 'relevant', 'to', 'any', 'house', 'no', 'matter', 'how', 'unusual', 'or', 'historical', 'or', 'plain', 'it', 'is', 'he', 'said', 'the', 'comps', 'with', 'no', 'truly', 'comparable', 'homes', 'grey', 'said', 'he', 'used', 'bracketing', 'system', 'to', 'determine', 'where', 'the', 'flintstone', 'house', 'fit', 'on', 'spectrum', 'he', 'placed', 'the', 'areas', 'highend', 'tudor', 'homes', 'and', 'plain', 'ranch', 'homes', 'at', 'opposite', 'ends', 'appraising', 'something', 'its', 'quite', 'bit', 'more', 'art', 'than', 'science', 'he', 'said', 'in', 'terms', 'of', 'appraising', 'that', 'house', 'put', 'it', 'right', 'in', 'the', 'middle', 'he', 'did', 'not', 'make', 'comparisons', 'with', 'unusual', 'homes', 'elsewhere', 'in', 'the', 'country', 'he', 'said', 'with', 'land', 'value', 'varying', 'greatly', 'he', 'explained', 'you', 'could', 'be', 'avoiding', 'an', 'adjustment', 'regarding', 'the', 'design', 'of', 'the', 'house', 'and', 'making', 'huge', 'adjustment', 'for', 'the', 'difference', 'in', 'location', 'in', 'southern', 'california', 'realtors', 'joyce', 'rey', 'and', 'stacy', 'gottula', 'of', 'coldwell', 'banker', 'previews', 'international', 'cast', 'considerably', 'wider', 'net', 'to', 'come', 'up', 'with', 'palazzo', 'di', 'amores', 'million', 'price', 'tag', 'which', 'has', 'since', 'dropped', 'to', 'million', 'the', 'agents', 'said', 'they', 'looked', 'to', 'the', 'most', 'expensive', 'homes', 'worldwide', 'the', '25acre', 'compound', 'with', 'its', 'own', 'vineyard', 'in', 'beverly', 'hills', 'was', 'touted', 'as', 'the', 'most', 'expensive', 'in', 'the', 'us', 'when', 'it', 'came', 'on', 'the', 'market', 'last', 'year', 'the', 'gated', '12bedroom', '23bathroom', 'property', 'was', 'eight', 'years', 'in', 'the', 'making', 'its', 'reached', 'by', 'quartermile', 'treelined', 'drive', 'and', 'has', 'guard', 'station', 'twolevel', 'entertainment', 'center', 'with', '50seat', 'screening', 'room', 'and', 'bowling', 'alley', 'is', 'entered', 'through', 'floating', 'glassfloor', 'walkway', 'over', 'pools', 'lined', 'by', '70yearold', 'olive', 'trees', 'the', 'main', 'residence', 'tops', 'square', 'feet', 'while', 'the', 'entire', 'estate', 'has', 'more', 'than', 'square', 'feet', 'of', 'living', 'space', 'theres', 'garage', 'parking', 'for', 'cars', 'though', 'the', 'site', 'can', 'easily', 'accommodate', 'parking', 'for', 'approximately', 'cars', 'according', 'to', 'the', 'listing', 'there', 'are', 'so', 'few', 'comps', 'you', 'really', 'have', 'to', 'look', 'at', 'the', 'history', 'of', 'sales', 'in', 'the', 'area', 'as', 'well', 'as', 'the', 'global', 'sales', 'gottula', 'said', 'theyre', 'going', 'to', 'be', 'global', 'citizen', 'of', 'some', 'kind', 'rey', 'said', 'of', 'the', 'likely', 'buyers', 'theyre', 'going', 'to', 'have', 'houses', 'in', 'various', 'places', 'and', 'theyre', 'going', 'to', 'be', 'looking', 'in', 'all', 'probability', 'in', 'all', 'of', 'those', 'markets', 'the', 'realtors', 'considered', 'the', 'highest', 'sales', 'in', 'london', 'hong', 'kong', 'france', 'and', 'elsewhere', 'they']\n",
      "0\n",
      "['when', 'brian', 'grey', 'have', 'to', 'figure', 'out', 'the', 'value', 'of', 'landmark', 'home', 'know', 'a', 'the', 'flintstone', 'house', 'the', 'appraiser', 'couldnt', 'look', 'to', 'comparable', 'residence', 'with', 'it', 'clump', 'of', 'bubbleshaped', 'room', 'the', 'home', 'seem', 'to', 'spring', 'out', 'of', 'hannabarbera', 'some', 'unusual', 'home', 'be', 'on', 'the', 'market', 'and', 'make', 'headline', 'counterclockwise', 'the', 'rock', 'house', 'the', 'volcano', 'house', 'the', 'flintstone', 'house', 'and', 'palazzo', 'di', 'amore', 'composite', 'by', 'marilyn', 'kalfus', 'photo', 'jeff', 'gritchen', 'leonard', 'ortiz', 'michael', 'mcnamara', 'open', 'home', 'photography', 'some', 'unusual', 'home', 'be', 'on', 'the', 'market', 'and', 'make', 'headline', 'counterclockwise', 'the', 'rock', 'house', 'the', 'volcano', 'house', 'the', 'flintstone', 'house', 'and', 'palazzo', 'di', 'amorecomposite', 'by', 'marilyn', 'kalfus', 'photo', 'jeff', 'gritchen', 'leonard', 'ortiz', 'michael', 'mcnamara', 'open', 'home', 'photography', 'when', 'brian', 'grey', 'have', 'to', 'figure', 'out', 'the', 'value', 'of', 'landmark', 'home', 'know', 'a', 'the', 'flintstone', 'house', 'the', 'appraiser', 'couldnt', 'look', 'to', 'comparable', 'residence', 'with', 'it', 'clump', 'of', 'bubbleshaped', 'room', 'the', 'home', 'seem', 'to', 'spring', 'out', 'of', 'hannabarbera', 'cartoon', 'grey', 'quickly', 'realize', 'just', 'dont', 'have', 'another', 'house', 'thats', 'like', 'this', 'that', 'didnt', 'make', 'the', 'property', 'white', 'elephant', 'though', 'when', 'grey', 'ask', 'several', 'real', 'estate', 'agent', 'in', 'the', 'bay', 'area', 'whether', 'there', 'be', 'market', 'for', 'the', 'unusual', 'home', 'he', 'recall', 'the', 'consensus', 'be', 'there', 'constant', 'demand', 'sure', 'enough', 'buyer', 'snap', 'it', 'up', 'for', 'nearly', 'two', 'decade', 'later', 'the', 'quirky', 'marvel', 'remodel', 'and', 'enhance', 'be', 'on', 'the', 'market', 'again', 'this', 'time', 'for', 'million', 'it', 'one', 'of', 'several', 'outoftheordinary', 'dwelling', 'that', 'have', 'be', 'make', 'headline', 'lately', 'in', 'the', 'mojave', 'desert', 'house', 'shape', 'like', 'spaceship', 'and', 'set', 'on', 'the', '150foot', 'cinder', 'cone', 'of', 'an', 'extinct', 'volcano', 'be', 'list', 'at', 'earlier', 'this', 'month', 'and', 'go', 'into', 'escrow', 'friday', 'the', 'property', 'on', 'acre', 'with', 'lake', 'get', 'multiple', 'offer', 'in', 'beverly', 'hill', 'sprawl', 'compound', 'tout', 'a', 'the', 'pricy', 'home', 'in', 'the', 'u', 'last', 'year', 'just', 'take', 'million', 'price', 'cut', 'despite', 'their', 'difference', 'house', 'like', 'these', 'raise', 'common', 'question', 'how', 'do', 'anyone', 'real', 'estate', 'professional', 'seller', 'or', 'buyer', 'figure', 'out', 'what', 'offthewall', 'overthetop', 'home', 'be', 'worth', 'the', 'volcano', 'house', 'be', 'own', 'by', 'tv', 'personality', 'huell', 'howser', 'who', 'give', 'it', 'to', 'chapman', 'university', 'in', 'year', 'before', 'his', 'death', 'the', 'university', 'have', 'originally', 'plan', 'to', 'use', 'the', 'house', 'for', 'desert', 'study', 'astronomy', 'and', 'geology', 'pursuit', 'but', 'it', 'sell', 'the', 'property', 'because', 'it', 'desert', 'location', 'in', 'newberry', 'spring', 'east', 'of', 'barstow', 'be', 'deem', 'too', 'isolated', 'for', 'student', 'brady', 'sandahl', 'of', 'hom', 'sothebys', 'international', 'realty', 'say', 'he', 'and', 'another', 'agent', 'list', 'the', 'house', 'consider', 'other', 'architecturally', 'significant', 'property', 'mostly', 'in', 'the', 'high', 'desert', 'in', 'come', 'up', 'with', 'the', 'price', 'tag', 'you', 'just', 'develop', 'business', 'gut', 'a', 'to', 'what', 'you', 'think', 'the', 'market', 'will', 'capture', 'he', 'say', 'then', 'you', 'turn', 'to', 'the', 'buyer', 'and', 'theyll', 'tell', 'you', 'why', 'theyre', 'give', 'you', 'what', 'theyre', 'give', 'you', 'thats', 'the', 'beauty', 'of', 'an', 'open', 'market', 'sandahl', 'say', 'the', 'multiple', 'offer', 'he', 'receive', 'show', 'the', 'ask', 'price', 'be', 'appropriate', 'three', 'offer', 'come', 'in', 'at', 'or', 'more', 'but', 'clearly', 'the', 'price', 'tag', 'would', 'be', 'high', 'if', 'the', 'property', 'wasnt', 'so', 'remote', 'this', 'be', 'real', 'estate', 'say', 'grey', 'who', 'appraise', 'the', 'flintstone', 'house', 'the', 'first', 'three', 'rule', 'of', 'real', 'estate', 'be', 'location', 'location', 'location', 'the', 'flintstone', 'house', 'be', 'on', 'the', 'opposite', 'side', 'of', 'that', 'rule', 'it', 'mile', 'from', 'san', 'francisco', 'and', 'right', 'near', 'i280', 'major', 'freeway', 'when', 'youre', 'in', 'the', 'yard', 'of', 'the', 'flintstone', 'house', 'grey', 'say', 'you', 'hear', 'that', 'freeway', 'very', 'clearly', 'while', 'the', 'noise', 'outside', 'the', 'home', 'be', 'minus', 'on', 'the', 'plus', 'side', 'grey', 'say', 'the', 'house', 'itself', 'be', 'nearly', 'soundproof', 'it', 'like', 'be', 'in', 'cave', 'he', 'attribute', 'that', 'to', 'the', 'construction', 'steel', 'rebar', 'and', 'wire', 'mesh', 'frame', 'be', 'build', 'over', 'large', 'inflated', 'weather', 'balloon', 'then', 'cover', 'with', 'gunite', 'or', 'shotcrete', 'he', 'say', 'that', 'make', 'the', 'wall', 'thicker', 'than', 'typical', 'home', 'appraise', 'even', 'unusual', 'home', 'involve', 'the', 'basic', 'grey', 'say', 'size', 'number', 'of', 'room', 'quality', 'of', 'finish', 'and', 'condition', 'be', 'all', 'factor', 'consider', 'in', 'addition', 'to', 'location', 'those', 'be', 'relevant', 'to', 'any', 'house', 'no', 'matter', 'how', 'unusual', 'or', 'historical', 'or', 'plain', 'it', 'be', 'he', 'say', 'the', 'comp', 'with', 'no', 'truly', 'comparable', 'home', 'grey', 'say', 'he', 'use', 'bracket', 'system', 'to', 'determine', 'where', 'the', 'flintstone', 'house', 'fit', 'on', 'spectrum', 'he', 'place', 'the', 'area', 'highend', 'tudor', 'home', 'and', 'plain', 'ranch', 'home', 'at', 'opposite', 'end', 'appraise', 'something', 'it', 'quite', 'bit', 'more', 'art', 'than', 'science', 'he', 'say', 'in', 'term', 'of', 'appraise', 'that', 'house', 'put', 'it', 'right', 'in', 'the', 'middle', 'he', 'do', 'not', 'make', 'comparison', 'with', 'unusual', 'home', 'elsewhere', 'in', 'the', 'country', 'he', 'say', 'with', 'land', 'value', 'vary', 'greatly', 'he', 'explain', 'you', 'could', 'be', 'avoid', 'an', 'adjustment', 'regard', 'the', 'design', 'of', 'the', 'house', 'and', 'make', 'huge', 'adjustment', 'for', 'the', 'difference', 'in', 'location', 'in', 'southern', 'california', 'realtor', 'joyce', 'rey', 'and', 'stacy', 'gottula', 'of', 'coldwell', 'banker', 'preview', 'international', 'cast', 'considerably', 'wider', 'net', 'to', 'come', 'up', 'with', 'palazzo', 'di', 'amores', 'million', 'price', 'tag', 'which', 'have', 'since', 'drop', 'to', 'million', 'the', 'agent', 'say', 'they', 'look', 'to', 'the', 'most', 'expensive', 'home', 'worldwide', 'the', '25acre', 'compound', 'with', 'it', 'own', 'vineyard', 'in', 'beverly', 'hill', 'be', 'tout', 'a', 'the', 'most', 'expensive', 'in', 'the', 'u', 'when', 'it', 'come', 'on', 'the', 'market', 'last', 'year', 'the', 'gate', '12bedroom', '23bathroom', 'property', 'be', 'eight', 'year', 'in', 'the', 'make', 'it', 'reach', 'by', 'quartermile', 'treelined', 'drive', 'and', 'have', 'guard', 'station', 'twolevel', 'entertainment', 'center', 'with', '50seat', 'screen', 'room', 'and', 'bowling', 'alley', 'be', 'enter', 'through', 'float', 'glassfloor', 'walkway', 'over', 'pool', 'line', 'by', '70yearold', 'olive', 'tree', 'the', 'main', 'residence', 'top', 'square', 'foot', 'while', 'the', 'entire', 'estate', 'have', 'more', 'than', 'square', 'foot', 'of', 'live', 'space', 'there', 'garage', 'park', 'for', 'car', 'though', 'the', 'site', 'can', 'easily', 'accommodate', 'parking', 'for', 'approximately', 'car', 'accord', 'to', 'the', 'listing', 'there', 'be', 'so', 'few', 'comp', 'you', 'really', 'have', 'to', 'look', 'at', 'the', 'history', 'of', 'sale', 'in', 'the', 'area', 'as', 'well', 'a', 'the', 'global', 'sale', 'gottula', 'say', 'theyre', 'go', 'to', 'be', 'global', 'citizen', 'of', 'some', 'kind', 'rey', 'say', 'of', 'the', 'likely', 'buyer', 'theyre', 'go', 'to', 'have', 'house', 'in', 'various', 'place', 'and', 'theyre', 'go', 'to', 'be', 'look', 'in', 'all', 'probability', 'in', 'all', 'of', 'those', 'market', 'the', 'realtor', 'consider', 'the', 'high', 'sale', 'in', 'london', 'hong', 'kong', 'france', 'and', 'elsewhere', 'they']\n"
     ]
    }
   ],
   "source": [
    "import json,nltk,re,datetime\n",
    "from nltk.stem import WordNetLemmatizer\n",
    "from nltk.corpus import wordnet\n",
    "from nltk import word_tokenize, pos_tag\n",
    "\n",
    "def get_pos_tag(tag):\n",
    "    if tag.startswith('J'):\n",
    "        return wordnet.ADJ\n",
    "    elif tag.startswith('V'):\n",
    "        return wordnet.VERB\n",
    "    elif tag.startswith('N'):\n",
    "        return wordnet.NOUN\n",
    "    elif tag.startswith('R'):\n",
    "        return wordnet.ADV\n",
    "    else:\n",
    "        return wordnet.NOUN\n",
    "\n",
    "\n",
    "if __name__ == \"__main__\":\n",
    "    start_time = datetime.datetime.now()\n",
    "    f = open(\"1.json\",\"r\")\n",
    "\n",
    "    data = []\n",
    "\n",
    "    for line in f :\n",
    "        data.append(json.loads(line).get(\"content\"))\n",
    "\n",
    "    # Lower the characters\n",
    "    data[0] = data[0].lower()\n",
    "\n",
    "    #Q1.d remove all URLs\n",
    "    rule = re.compile(r'(http:\\/\\/www\\.|https:\\/\\/www\\.|http:\\/\\/|https:\\/\\/)?[a-z0-9]+([\\-\\.]{1}[a-z0-9]+)*\\.[a-z]{2,5}(:[0-9]{1,5})?(\\/.*)?')\n",
    "    data[0] = rule.sub('', data[0])\n",
    "    \n",
    "    #Q1.a remove all non-alphacharacters except spaces\n",
    "    rule = re.compile(r'[^a-z0-9 ]')\n",
    "    data[0] = rule.sub('',data[0])\n",
    "    \n",
    "    #Q1.b remove all words within 3 characters\n",
    "    rule = re.compile(r'\\W*\\b\\w{1}\\b')\n",
    "    data[0] = rule.sub('', data[0])\n",
    "    \n",
    "    #Q1.c remove numbers that are fully made of digits\n",
    "    rule = re.compile(r'\\b[\\d]*\\b')\n",
    "    data[0] = rule.sub('', data[0])\n",
    "\n",
    "    data[0] = nltk.word_tokenize(data[0])\n",
    "\n",
    "    #N = len(data[0])\n",
    "    #V = len(set(data[0]))\n",
    "    print(data[0])\n",
    "    data[0] = nltk.pos_tag(data[0])\n",
    "    \n",
    "    lmtzr = WordNetLemmatizer()\n",
    "    data[0] = list(map(lambda x : lmtzr.lemmatize(x[0],get_pos_tag(x[1])),data[0]))\n",
    "    \n",
    "    end_time = datetime.datetime.now()\n",
    "    interval = (end_time-start_time).seconds\n",
    "    \n",
    "    print(interval)\n",
    "    print(data[0])\n",
    "    #print(\"Number of Tokens:\",N )\n",
    "    #print(\"Vocabulary size is\", V)"
   ]
  },
  {
   "cell_type": "code",
   "execution_count": null,
   "metadata": {},
   "outputs": [],
   "source": []
  }
 ],
 "metadata": {
  "kernelspec": {
   "display_name": "Python 3",
   "language": "python",
   "name": "python3"
  },
  "language_info": {
   "codemirror_mode": {
    "name": "ipython",
    "version": 3
   },
   "file_extension": ".py",
   "mimetype": "text/x-python",
   "name": "python",
   "nbconvert_exporter": "python",
   "pygments_lexer": "ipython3",
   "version": "3.7.0"
  }
 },
 "nbformat": 4,
 "nbformat_minor": 2
}
