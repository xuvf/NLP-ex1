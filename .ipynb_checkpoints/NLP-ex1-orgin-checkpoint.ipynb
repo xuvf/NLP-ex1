{
 "cells": [
  {
   "cell_type": "code",
   "execution_count": 2,
   "metadata": {
    "scrolled": false
   },
   "outputs": [
    {
     "ename": "NameError",
     "evalue": "name 'interval' is not defined",
     "output_type": "error",
     "traceback": [
      "\u001b[1;31m---------------------------------------------------------------------------\u001b[0m",
      "\u001b[1;31mNameError\u001b[0m                                 Traceback (most recent call last)",
      "\u001b[1;32m<ipython-input-2-29d48c9d9e21>\u001b[0m in \u001b[0;36m<module>\u001b[1;34m\u001b[0m\n\u001b[0;32m     94\u001b[0m \u001b[1;31m#     interval = (end_time-start_time).seconds\u001b[0m\u001b[1;33m\u001b[0m\u001b[1;33m\u001b[0m\u001b[0m\n\u001b[0;32m     95\u001b[0m \u001b[1;33m\u001b[0m\u001b[0m\n\u001b[1;32m---> 96\u001b[1;33m     \u001b[0mprint\u001b[0m\u001b[1;33m(\u001b[0m\u001b[0minterval\u001b[0m\u001b[1;33m)\u001b[0m\u001b[1;33m\u001b[0m\u001b[0m\n\u001b[0m\u001b[0;32m     97\u001b[0m \u001b[1;31m#     print(\"Number of tokens:\",len(temp_tokens))\u001b[0m\u001b[1;33m\u001b[0m\u001b[1;33m\u001b[0m\u001b[0m\n\u001b[0;32m     98\u001b[0m \u001b[1;31m#     print(\"Vocabulary size is: \", len(temp_set))\u001b[0m\u001b[1;33m\u001b[0m\u001b[1;33m\u001b[0m\u001b[0m\n",
      "\u001b[1;31mNameError\u001b[0m: name 'interval' is not defined"
     ]
    }
   ],
   "source": [
    "import json,nltk,re,datetime,collections\n",
    "from nltk.stem import WordNetLemmatizer\n",
    "from nltk.corpus import wordnet\n",
    "from nltk import word_tokenize, pos_tag\n",
    "\n",
    "\n",
    "def get_pos_tag(tag):\n",
    "    if tag.startswith('J'):\n",
    "        return wordnet.ADJ\n",
    "    elif tag.startswith('V'):\n",
    "        return wordnet.VERB\n",
    "    elif tag.startswith('N'):\n",
    "        return wordnet.NOUN\n",
    "    elif tag.startswith('R'):\n",
    "        return wordnet.ADV\n",
    "    elif tag.startswith('I'):\n",
    "        return wordnet.ADJ\n",
    "    else :\n",
    "        return wordnet.NOUN\n",
    "\n",
    "if __name__ == \"__main__\":\n",
    "    #Start Timer\n",
    "    start_time = datetime.datetime.now()\n",
    "\n",
    "    f = open(\"signal-news1.jsonl\",\"r\")\n",
    "    positive = open(\"opinion-lexicon-English/positive-words.txt\",'r').read().split(\"\\n\")\n",
    "    negative = open(\"opinion-lexicon-English/negative-words.txt\",'r').read().split(\"\\n\")\n",
    "\n",
    "    data = []\n",
    "    pos_story = 0\n",
    "    neg_story = 0\n",
    "    pos_words = 0\n",
    "    neg_words = 0\n",
    "    temp_set = []\n",
    "    temp_tokens = []\n",
    "    lmtzr = WordNetLemmatizer()\n",
    "\n",
    "\n",
    "    for line in f :\n",
    "        temp = json.loads(line).get(\"content\")\n",
    "    \n",
    "        # Lower the characters\n",
    "        temp = temp.lower()\n",
    "    \n",
    "        #Q1.d remove all URLs\n",
    "        rule = re.compile(r\"http(s)?://[-A-Za-z0-9+&@#/%?=~_|!:,.;]+[-A-Za-z0-9+&@#/%=~_|]\")\n",
    "        temp = rule.sub('', temp)\n",
    "    \n",
    "        #Q1.a remove all non-alphacharacters except spaces\n",
    "        rule = re.compile(r'[^a-z0-9]+')\n",
    "        temp = rule.sub(' ',temp)\n",
    "    \n",
    "        #Q1.b remove all words within 3 characters\n",
    "        rule = re.compile(r'\\W*\\b\\w{1}\\b')\n",
    "        temp = rule.sub('', temp)\n",
    "    \n",
    "        #Q1.c remove numbers that are fully made of digits\n",
    "        rule = re.compile(r\"([0-9]+ )\")\n",
    "        temp = rule.sub('', temp)\n",
    "    \n",
    "    \n",
    "        #Q2 POS tagger\n",
    "        temp = nltk.word_tokenize(temp)\n",
    "        temp = nltk.pos_tag(temp)\n",
    "    \n",
    "        temp = list(map(lambda x : lmtzr.lemmatize(x[0],get_pos_tag(x[1])),temp))\n",
    "        \n",
    "        temp_tokens += temp\n",
    "        \n",
    "#         pos = 0\n",
    "#         neg = 0\n",
    "        \n",
    "#         for i in temp:\n",
    "#             if i in positive:\n",
    "#                 pos += 1\n",
    "#             elif i in negative:\n",
    "#                 neg += 1\n",
    "        \n",
    "#         if pos > neg :\n",
    "#             pos_story += 1\n",
    "#         elif pos < neg :\n",
    "#             neg_story += 1\n",
    "\n",
    "#         pos_words += pos\n",
    "#         neg_words += neg\n",
    "        data.append(temp)\n",
    "\n",
    "#     trigrams = collections.Counter(temp_tokens).most_common(25)\n",
    "#     temp_set = set(temp_tokens)\n",
    "    end_time = datetime.datetime.now()\n",
    "    interval = (end_time-start_time).seconds\n",
    "\n",
    "    print(interval)\n",
    "#     print(\"Number of tokens:\",len(temp_tokens))\n",
    "#     print(\"Vocabulary size is: \", len(temp_set))\n",
    "#     print(pos_story)\n",
    "#     print(neg_story)\n",
    "#     print(trigrams)\n",
    "   # print(data[6])"
   ]
  },
  {
   "cell_type": "code",
   "execution_count": 6,
   "metadata": {
    "scrolled": true
   },
   "outputs": [
    {
     "name": "stdout",
     "output_type": "stream",
     "text": [
      "182686\n",
      "146470\n"
     ]
    }
   ],
   "source": [
    "print(pos_words)\n",
    "print(neg_words)"
   ]
  },
  {
   "cell_type": "code",
   "execution_count": null,
   "metadata": {},
   "outputs": [],
   "source": []
  }
 ],
 "metadata": {
  "kernelspec": {
   "display_name": "Python 3",
   "language": "python",
   "name": "python3"
  },
  "language_info": {
   "codemirror_mode": {
    "name": "ipython",
    "version": 3
   },
   "file_extension": ".py",
   "mimetype": "text/x-python",
   "name": "python",
   "nbconvert_exporter": "python",
   "pygments_lexer": "ipython3",
   "version": "3.7.0"
  }
 },
 "nbformat": 4,
 "nbformat_minor": 2
}
