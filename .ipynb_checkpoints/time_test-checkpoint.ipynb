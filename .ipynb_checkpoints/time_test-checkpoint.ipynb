{
 "cells": [
  {
   "cell_type": "code",
   "execution_count": 11,
   "metadata": {
    "scrolled": false
   },
   "outputs": [
    {
     "name": "stdout",
     "output_type": "stream",
     "text": [
      "0.2173013687133789\n",
      "0.24960064888000488\n"
     ]
    }
   ],
   "source": [
    "import json\n",
    "import nltk\n",
    "import re\n",
    "import time\n",
    "\n",
    "#Start Timer\n",
    "start_time = time.time()\n",
    "test = []\n",
    "for i in range(1000000):\n",
    "    test.append(i)\n",
    "\n",
    "end_time = time.time()\n",
    "interval = (end_time-start_time)\n",
    "print(interval)\n",
    "\n",
    "start_time = time.time()\n",
    "test = {}\n",
    "for i in range(1000000):\n",
    "    test[i] = 1\n",
    "end_time = time.time()\n",
    "interval = (end_time-start_time)\n",
    "print(interval)\n"
   ]
  },
  {
   "cell_type": "code",
   "execution_count": 5,
   "metadata": {},
   "outputs": [
    {
     "data": {
      "text/plain": [
       "str"
      ]
     },
     "execution_count": 5,
     "metadata": {},
     "output_type": "execute_result"
    }
   ],
   "source": [
    "type(temp)"
   ]
  },
  {
   "cell_type": "code",
   "execution_count": null,
   "metadata": {},
   "outputs": [],
   "source": []
  }
 ],
 "metadata": {
  "kernelspec": {
   "display_name": "Python 3",
   "language": "python",
   "name": "python3"
  },
  "language_info": {
   "codemirror_mode": {
    "name": "ipython",
    "version": 3
   },
   "file_extension": ".py",
   "mimetype": "text/x-python",
   "name": "python",
   "nbconvert_exporter": "python",
   "pygments_lexer": "ipython3",
   "version": "3.7.0"
  }
 },
 "nbformat": 4,
 "nbformat_minor": 2
}
