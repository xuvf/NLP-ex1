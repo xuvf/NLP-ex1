{
 "cells": [
  {
   "cell_type": "code",
   "execution_count": 46,
   "metadata": {
    "scrolled": false
   },
   "outputs": [
    {
     "name": "stdout",
     "output_type": "stream",
     "text": [
      "8\n",
      "Number of tokens: 0\n",
      "Vocabulary size is:  0\n",
      "0\n",
      "0\n",
      "[('the', 338803), ('be', 164645), ('to', 150836), ('of', 148410), ('and', 139888), ('in', 117219), ('have', 67861), ('on', 66838), ('for', 58297), ('it', 57376), ('that', 56951), ('with', 43859), ('at', 36883), ('as', 33535), ('say', 29999), ('from', 28801), ('he', 27535), ('by', 26547), ('this', 23166), ('an', 23053), ('his', 22129), ('but', 21491), ('will', 20522), ('year', 20405), ('you', 20197)]\n"
     ]
    }
   ],
   "source": [
    "import json,nltk,re,datetime,collections\n",
    "\n",
    "\n",
    "def get_pos_tag(tag):\n",
    "    if tag.startswith('J'):\n",
    "        return wordnet.ADJ\n",
    "    elif tag.startswith('V'):\n",
    "        return wordnet.VERB\n",
    "    elif tag.startswith('N'):\n",
    "        return wordnet.NOUN\n",
    "    elif tag.startswith('R'):\n",
    "        return wordnet.ADV\n",
    "    elif tag.startswith('I'):\n",
    "        return wordnet.ADJ\n",
    "    else :\n",
    "        return wordnet.NOUN\n",
    "\n",
    "if __name__ == \"__main__\":\n",
    "    #Start Timer\n",
    "    start_time = datetime.datetime.now()\n",
    "\n",
    "    f = open(\"signal-news1.jsonl\",\"r\")\n",
    "    positive = open(\"opinion-lexicon-English/positive-words.txt\",'r').read().split(\"\\n\")\n",
    "    negative = open(\"opinion-lexicon-English/negative-words.txt\",'r').read().split(\"\\n\")\n",
    "\n",
    "    data = []\n",
    "    pos_story = 0\n",
    "    neg_story = 0\n",
    "    pos_words = 0\n",
    "    neg_words = 0\n",
    "    temp_set = []\n",
    "    temp_tokens = []\n",
    "    lmtzr = WordNetLemmatizer()\n",
    "\n",
    "\n",
    "    for line in f :\n",
    "        temp = json.loads(line).get(\"content\")\n",
    "    \n",
    "        # Lower the characters\n",
    "        temp = temp.lower()\n",
    "    \n",
    "        #Q1.d remove all URLs\n",
    "        rule = re.compile(r\"http(s)?://[-A-Za-z0-9+&@#/%?=~_|!:,.;]+[-A-Za-z0-9+&@#/%=~_|]\")\n",
    "        temp = rule.sub('', temp)\n",
    "    \n",
    "        #Q1.a remove all non-alphacharacters except spaces\n",
    "        rule = re.compile(r'[^a-z0-9]+')\n",
    "        temp = rule.sub(' ',temp)\n",
    "    \n",
    "        #Q1.b remove all words within 3 characters\n",
    "        rule = re.compile(r'\\W*\\b\\w{1}\\b')\n",
    "        temp = rule.sub('', temp)\n",
    "    \n",
    "        #Q1.c remove numbers that are fully made of digits\n",
    "        rule = re.compile(r\"([0-9]+ )\")\n",
    "        temp = rule.sub('', temp)\n",
    "    \n",
    "    \n",
    "        #Q2 POS tagger\n",
    "        temp = nltk.word_tokenize(temp)\n",
    "        temp = nltk.pos_tag(temp)\n",
    "    \n",
    "        temp = list(map(lambda x : lmtzr.lemmatize(x[0],get_pos_tag(x[1])),temp))\n",
    "        '''\n",
    "        在上面计算单词情感\n",
    "        '''\n",
    "        \n",
    "        temp_tokens += temp\n",
    "        \n",
    "        pos = 0\n",
    "        neg = 0\n",
    "        \n",
    "#         for i in temp:\n",
    "#             if i in positive:\n",
    "#                 pos += 1\n",
    "#             elif i in negative:\n",
    "#                 neg += 1\n",
    "        \n",
    "#         if pos > neg :\n",
    "#             pos_story += 1\n",
    "#         elif pos < neg :\n",
    "#             neg_story += 1\n",
    "\n",
    "#         pos_words += pos\n",
    "#         neg_words += neg\n",
    "#         data.append(temp)\n",
    "\n",
    "#     trigrams = collections.Counter(temp_tokens).most_common(25)\n",
    "#     temp_set = set(temp_tokens)\n",
    "    end_time = datetime.datetime.now()\n",
    "    interval = (end_time-start_time).seconds\n",
    "\n",
    "    print(interval)\n",
    "    print(\"Number of tokens:\",len(temp_tokens))\n",
    "    print(\"Vocabulary size is: \", len(temp_set))\n",
    "    print(pos_story)\n",
    "    print(neg_story)\n",
    "    print(trigrams)\n",
    "   # print(data[6])"
   ]
  },
  {
   "cell_type": "code",
   "execution_count": 43,
   "metadata": {
    "scrolled": true
   },
   "outputs": [
    {
     "name": "stdout",
     "output_type": "stream",
     "text": [
      "182686\n",
      "146470\n"
     ]
    }
   ],
   "source": [
    "print(pos_words)\n",
    "print(neg_words)"
   ]
  },
  {
   "cell_type": "code",
   "execution_count": null,
   "metadata": {},
   "outputs": [],
   "source": []
  }
 ],
 "metadata": {
  "kernelspec": {
   "display_name": "Python 3",
   "language": "python",
   "name": "python3"
  },
  "language_info": {
   "codemirror_mode": {
    "name": "ipython",
    "version": 3
   },
   "file_extension": ".py",
   "mimetype": "text/x-python",
   "name": "python",
   "nbconvert_exporter": "python",
   "pygments_lexer": "ipython3",
   "version": "3.7.0"
  }
 },
 "nbformat": 4,
 "nbformat_minor": 2
}
