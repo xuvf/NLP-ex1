{
 "cells": [
  {
   "cell_type": "code",
   "execution_count": 4,
   "metadata": {
    "scrolled": false
   },
   "outputs": [
    {
     "name": "stdout",
     "output_type": "stream",
     "text": [
      "335\n",
      "[('when', 'WRB'), ('brian', 'JJ'), ('grey', 'NN'), ('figure', 'NN'), ('value', 'NN'), ('landmark', 'NN'), ('home', 'NN'), ('known', 'VBN'), ('flintstone', 'NN'), ('house', 'NN'), ('appraiser', 'NN'), ('couldnt', 'NN'), ('look', 'NN'), ('comparable', 'JJ'), ('residences', 'NNS'), ('with', 'IN'), ('clump', 'NN'), ('bubbleshaped', 'VBD'), ('rooms', 'NNS'), ('home', 'NN'), ('seemed', 'VBD'), ('spring', 'NN'), ('hannabarbera', 'NN'), ('some', 'DT'), ('unusual', 'JJ'), ('homes', 'NNS'), ('market', 'NN'), ('making', 'VBG'), ('headlines', 'NNS'), ('counterclockwise', 'NN'), ('rock', 'NN'), ('house', 'NN'), ('volcano', 'NN'), ('house', 'NN'), ('flintstone', 'NN'), ('house', 'NN'), ('palazzo', 'NN'), ('amore', 'IN'), ('composite', 'JJ'), ('marilyn', 'NN'), ('kalfus', 'NN'), ('photos', 'NNS'), ('jeff', 'VBP'), ('gritchen', 'JJ'), ('leonard', 'NN'), ('ortiz', 'NN'), ('michael', 'NN'), ('mcnamara', 'NN'), ('open', 'JJ'), ('homes', 'NNS'), ('photography', 'VBP'), ('some', 'DT'), ('unusual', 'JJ'), ('homes', 'NNS'), ('market', 'NN'), ('making', 'VBG'), ('headlines', 'NNS'), ('counterclockwise', 'NN'), ('rock', 'NN'), ('house', 'NN'), ('volcano', 'NN'), ('house', 'NN'), ('flintstone', 'NN'), ('house', 'NN'), ('palazzo', 'VBZ'), ('amorecomposite', 'JJ'), ('marilyn', 'NNS'), ('kalfus', 'VBP'), ('photos', 'NNS'), ('jeff', 'VBP'), ('gritchen', 'JJ'), ('leonard', 'NN'), ('ortiz', 'NN'), ('michael', 'NN'), ('mcnamara', 'NN'), ('open', 'JJ'), ('homes', 'NNS'), ('photography', 'VBP'), ('when', 'WRB'), ('brian', 'JJ'), ('grey', 'NN'), ('figure', 'NN'), ('value', 'NN'), ('landmark', 'NN'), ('home', 'NN'), ('known', 'VBN'), ('flintstone', 'NN'), ('house', 'NN'), ('appraiser', 'NN'), ('couldnt', 'NN'), ('look', 'NN'), ('comparable', 'JJ'), ('residences', 'NNS'), ('with', 'IN'), ('clump', 'NN'), ('bubbleshaped', 'VBD'), ('rooms', 'NNS'), ('home', 'NN'), ('seemed', 'VBD'), ('spring', 'JJ'), ('hannabarbera', 'NN'), ('cartoon', 'NN'), ('grey', 'NNS'), ('quickly', 'RB'), ('realized', 'VBD'), ('just', 'RB'), ('dont', 'VBN'), ('have', 'VBP'), ('another', 'DT'), ('house', 'NN'), ('thats', 'VBZ'), ('like', 'IN'), ('this', 'DT'), ('that', 'WDT'), ('didnt', 'VBP'), ('make', 'VBP'), ('property', 'NN'), ('white', 'JJ'), ('elephant', 'JJ'), ('though', 'IN'), ('when', 'WRB'), ('grey', 'NN'), ('asked', 'VBD'), ('several', 'JJ'), ('real', 'JJ'), ('estate', 'NN'), ('agents', 'NNS'), ('area', 'NN'), ('whether', 'IN'), ('there', 'EX'), ('market', 'NN'), ('unusual', 'JJ'), ('home', 'NN'), ('recalled', 'VBD'), ('consensus', 'NN'), ('theres', 'NNS'), ('constant', 'JJ'), ('demand', 'NN'), ('sure', 'JJ'), ('enough', 'JJ'), ('buyer', 'NN'), ('snapped', 'VBD'), ('nearly', 'RB'), ('decades', 'NNS'), ('later', 'RB'), ('quirky', 'VBP'), ('marvel', 'NN'), ('remodeled', 'VBD'), ('enhanced', 'JJ'), ('market', 'NN'), ('again', 'RB'), ('this', 'DT'), ('time', 'NN'), ('million', 'CD'), ('several', 'JJ'), ('outoftheordinary', 'JJ'), ('dwellings', 'NNS'), ('that', 'WDT'), ('have', 'VBP'), ('been', 'VBN'), ('making', 'VBG'), ('headlines', 'NNS'), ('lately', 'RB'), ('mojave', 'VBP'), ('desert', 'NN'), ('house', 'NN'), ('shaped', 'VBD'), ('like', 'IN'), ('spaceship', 'NN'), ('150foot', 'CD'), ('cinder', 'NN'), ('cone', 'NN'), ('extinct', 'JJ'), ('volcano', 'NN'), ('listed', 'VBN'), ('earlier', 'RBR'), ('this', 'DT'), ('month', 'NN'), ('went', 'VBD'), ('into', 'IN'), ('escrow', 'NN'), ('friday', 'JJ'), ('property', 'NN'), ('acres', 'NNS'), ('with', 'IN'), ('lake', 'NN'), ('multiple', 'NN'), ('offers', 'NNS'), ('beverly', 'RB'), ('hills', 'NNS'), ('sprawling', 'VBG'), ('compound', 'NN'), ('touted', 'VBD'), ('priciest', 'JJS'), ('home', 'NN'), ('last', 'JJ'), ('year', 'NN'), ('just', 'RB'), ('took', 'VBD'), ('million', 'CD'), ('price', 'NN'), ('despite', 'IN'), ('their', 'PRP$'), ('differences', 'NNS'), ('houses', 'NNS'), ('like', 'IN'), ('these', 'DT'), ('raise', 'VB'), ('common', 'JJ'), ('question', 'NN'), ('does', 'VBZ'), ('anyone', 'NN'), ('real', 'JJ'), ('estate', 'NN'), ('professionals', 'NNS'), ('sellers', 'NNS'), ('buyers', 'NNS'), ('figure', 'VBP'), ('what', 'WP'), ('offthewall', 'VBP'), ('overthetop', 'JJ'), ('homes', 'NNS'), ('worth', 'JJ'), ('volcano', 'NNS'), ('house', 'NN'), ('owned', 'VBD'), ('personality', 'NN'), ('huell', 'NN'), ('howser', 'NN'), ('gave', 'VBD'), ('chapman', 'NN'), ('university', 'NN'), ('year', 'NN'), ('before', 'IN'), ('death', 'NN'), ('university', 'NN'), ('originally', 'RB'), ('planned', 'VBN'), ('house', 'NN'), ('desert', 'NN'), ('studies', 'NNS'), ('astronomy', 'VBP'), ('geology', 'JJ'), ('pursuits', 'NNS'), ('selling', 'VBG'), ('property', 'NN'), ('because', 'IN'), ('desert', 'NN'), ('location', 'NN'), ('newberry', 'JJ'), ('springs', 'NNS'), ('east', 'VBP'), ('barstow', 'NN'), ('deemed', 'VBN'), ('isolated', 'JJ'), ('students', 'NNS'), ('brady', 'JJ'), ('sandahl', 'JJ'), ('sothebys', 'JJ'), ('international', 'JJ'), ('realty', 'NN'), ('says', 'VBZ'), ('another', 'DT'), ('agent', 'NN'), ('listing', 'NN'), ('house', 'NN'), ('considered', 'VBD'), ('other', 'JJ'), ('architecturally', 'RB'), ('significant', 'JJ'), ('properties', 'NNS'), ('mostly', 'RB'), ('high', 'JJ'), ('desert', 'NN'), ('coming', 'VBG'), ('with', 'IN'), ('price', 'NN'), ('just', 'RB'), ('develop', 'VB'), ('business', 'NN'), ('what', 'WP'), ('think', 'VBP'), ('market', 'NN'), ('will', 'MD'), ('capture', 'VB'), ('said', 'VBD'), ('then', 'RB'), ('turn', 'JJ'), ('buyers', 'NNS'), ('theyll', 'VBP'), ('tell', 'VBP'), ('theyre', 'RB'), ('giving', 'VBG'), ('what', 'WP'), ('theyre', 'NN'), ('giving', 'VBG'), ('thats', 'NNS'), ('beauty', 'RB'), ('open', 'JJ'), ('market', 'NN'), ('sandahl', 'NN'), ('said', 'VBD'), ('multiple', 'JJ'), ('offers', 'NNS'), ('received', 'VBD'), ('show', 'RB'), ('asking', 'JJ'), ('price', 'NN'), ('appropriate', 'NN'), ('three', 'CD'), ('offers', 'NNS'), ('came', 'VBD'), ('more', 'RBR'), ('clearly', 'RB'), ('price', 'NN'), ('would', 'MD'), ('higher', 'VB'), ('property', 'NN'), ('wasnt', 'JJ'), ('remote', 'NN'), ('this', 'DT'), ('real', 'JJ'), ('estate', 'NN'), ('said', 'VBD'), ('grey', 'NN'), ('appraised', 'VBD'), ('flintstone', 'NN'), ('house', 'NN'), ('first', 'JJ'), ('three', 'CD'), ('rules', 'NNS'), ('real', 'JJ'), ('estate', 'NN'), ('location', 'NN'), ('location', 'NN'), ('location', 'NN'), ('flintstone', 'NN'), ('house', 'NN'), ('opposite', 'JJ'), ('side', 'NN'), ('that', 'WDT'), ('rule', 'NN'), ('miles', 'NNS'), ('from', 'IN'), ('francisco', 'NN'), ('right', 'NN'), ('near', 'IN'), ('i', 'JJ'), ('major', 'JJ'), ('freeway', 'NN'), ('when', 'WRB'), ('youre', 'NN'), ('yard', 'RB'), ('flintstone', 'NN'), ('house', 'NN'), ('grey', 'NN'), ('said', 'VBD'), ('hear', 'VBP'), ('that', 'IN'), ('freeway', 'RB'), ('very', 'RB'), ('clearly', 'RB'), ('while', 'IN'), ('noise', 'NN'), ('outside', 'IN'), ('home', 'NN'), ('minus', 'NN'), ('plus', 'CC'), ('side', 'NN'), ('grey', 'NN'), ('said', 'VBD'), ('house', 'NN'), ('itself', 'PRP'), ('nearly', 'RB'), ('soundproof', 'VBP'), ('like', 'IN'), ('being', 'VBG'), ('cave', 'VB'), ('attributes', 'NNS'), ('that', 'DT'), ('construction', 'NN'), ('steel', 'NN'), ('rebar', 'NN'), ('wire', 'NN'), ('mesh', 'JJ'), ('frames', 'NNS'), ('were', 'VBD'), ('built', 'VBN'), ('over', 'IN'), ('large', 'JJ'), ('inflated', 'JJ'), ('weather', 'NN'), ('balloons', 'NNS'), ('then', 'RB'), ('covered', 'VBD'), ('with', 'IN'), ('gunite', 'JJ'), ('shotcrete', 'NN'), ('said', 'VBD'), ('that', 'IN'), ('makes', 'VBZ'), ('walls', 'NNS'), ('thicker', 'JJR'), ('than', 'IN'), ('typical', 'JJ'), ('homes', 'NNS'), ('appraising', 'VBG'), ('even', 'RB'), ('unusual', 'JJ'), ('homes', 'NNS'), ('involves', 'VBZ'), ('basics', 'NNS'), ('grey', 'NN'), ('said', 'VBD'), ('size', 'NN'), ('number', 'NN'), ('rooms', 'NNS'), ('quality', 'NN'), ('finishes', 'NNS'), ('condition', 'NN'), ('factors', 'NNS'), ('considered', 'VBN'), ('addition', 'NN'), ('location', 'NN'), ('those', 'DT'), ('relevant', 'JJ'), ('house', 'NN'), ('matter', 'NN'), ('unusual', 'JJ'), ('historical', 'JJ'), ('plain', 'NN'), ('said', 'VBD'), ('comps', 'NNS'), ('with', 'IN'), ('truly', 'RB'), ('comparable', 'JJ'), ('homes', 'NNS'), ('grey', 'NN'), ('said', 'VBD'), ('used', 'VBN'), ('bracketing', 'NN'), ('system', 'NN'), ('determine', 'VB'), ('where', 'WRB'), ('flintstone', 'NN'), ('house', 'NN'), ('spectrum', 'NN'), ('placed', 'VBD'), ('areas', 'NNS'), ('highend', 'VBP'), ('tudor', 'NN'), ('homes', 'NNS'), ('plain', 'VBP'), ('ranch', 'JJ'), ('homes', 'NNS'), ('opposite', 'JJ'), ('ends', 'NNS'), ('appraising', 'VBG'), ('something', 'NN'), ('quite', 'RB'), ('more', 'RBR'), ('than', 'IN'), ('science', 'NN'), ('said', 'VBD'), ('terms', 'NNS'), ('appraising', 'VBG'), ('that', 'IN'), ('house', 'NN'), ('right', 'VBD'), ('middle', 'JJ'), ('make', 'VB'), ('comparisons', 'NNS'), ('with', 'IN'), ('unusual', 'JJ'), ('homes', 'NNS'), ('elsewhere', 'RB'), ('country', 'NN'), ('said', 'VBD'), ('with', 'IN'), ('land', 'NN'), ('value', 'NN'), ('varying', 'VBG'), ('greatly', 'RB'), ('explained', 'VBN'), ('could', 'MD'), ('avoiding', 'VBG'), ('adjustment', 'RP'), ('regarding', 'VBG'), ('design', 'NN'), ('house', 'NN'), ('making', 'VBG'), ('huge', 'JJ'), ('adjustment', 'NN'), ('difference', 'NN'), ('location', 'NN'), ('southern', 'JJ'), ('california', 'NN'), ('realtors', 'NNS'), ('joyce', 'VBP'), ('stacy', 'NN'), ('gottula', 'NN'), ('coldwell', 'NN'), ('banker', 'NN'), ('previews', 'VBZ'), ('international', 'JJ'), ('cast', 'NN'), ('considerably', 'RB'), ('wider', 'RBR'), ('come', 'JJ'), ('with', 'IN'), ('palazzo', 'JJ'), ('amores', 'NNS'), ('million', 'CD'), ('price', 'NN'), ('which', 'WDT'), ('since', 'IN'), ('dropped', 'VBD'), ('million', 'CD'), ('agents', 'NNS'), ('said', 'VBD'), ('they', 'PRP'), ('looked', 'VBD'), ('most', 'RBS'), ('expensive', 'JJ'), ('homes', 'NNS'), ('worldwide', 'VBP'), ('25acre', 'CD'), ('compound', 'NN'), ('with', 'IN'), ('vineyard', 'JJ'), ('beverly', 'NN'), ('hills', 'NNS'), ('touted', 'VBD'), ('most', 'RBS'), ('expensive', 'JJ'), ('when', 'WRB'), ('came', 'VBD'), ('market', 'NN'), ('last', 'JJ'), ('year', 'NN'), ('gated', 'VBD'), ('12bedroom', 'CD'), ('23bathroom', 'CD'), ('property', 'NN'), ('eight', 'CD'), ('years', 'NNS'), ('making', 'VBG'), ('reached', 'VBD'), ('quartermile', 'JJ'), ('treelined', 'JJ'), ('drive', 'NN'), ('guard', 'NN'), ('station', 'NN'), ('twolevel', 'NN'), ('entertainment', 'NN'), ('center', 'NN'), ('with', 'IN'), ('50seat', 'CD'), ('screening', 'VBG'), ('room', 'NN'), ('bowling', 'NN'), ('alley', 'NN'), ('entered', 'VBD'), ('through', 'IN'), ('floating', 'VBG'), ('glassfloor', 'JJ'), ('walkway', 'NN'), ('over', 'IN'), ('pools', 'NNS'), ('lined', 'VBD'), ('70yearold', 'CD'), ('olive', 'JJ'), ('trees', 'NNS'), ('main', 'JJ'), ('residence', 'NN'), ('tops', 'NNS'), ('square', 'JJ'), ('feet', 'NNS'), ('while', 'IN'), ('entire', 'JJ'), ('estate', 'NN'), ('more', 'RBR'), ('than', 'IN'), ('square', 'JJ'), ('feet', 'NNS'), ('living', 'VBG'), ('space', 'NN'), ('theres', 'NNS'), ('garage', 'VBP'), ('parking', 'VBG'), ('cars', 'NNS'), ('though', 'IN'), ('site', 'NN'), ('easily', 'RB'), ('accommodate', 'JJ'), ('parking', 'NN'), ('approximately', 'RB'), ('cars', 'NNS'), ('according', 'VBG'), ('listing', 'NN'), ('there', 'RB'), ('comps', 'VBZ'), ('really', 'RB'), ('have', 'JJ'), ('look', 'NN'), ('history', 'NN'), ('sales', 'NNS'), ('area', 'NN'), ('well', 'RB'), ('global', 'JJ'), ('sales', 'NNS'), ('gottula', 'NN'), ('said', 'VBD'), ('theyre', 'NN'), ('going', 'VBG'), ('global', 'JJ'), ('citizen', 'VB'), ('some', 'DT'), ('kind', 'NN'), ('said', 'VBD'), ('likely', 'JJ'), ('buyers', 'NNS'), ('theyre', 'VBP'), ('going', 'VBG'), ('have', 'VBP'), ('houses', 'NNS'), ('various', 'JJ'), ('places', 'NNS'), ('theyre', 'VBP'), ('going', 'VBG'), ('looking', 'VBG'), ('probability', 'NN'), ('those', 'DT'), ('markets', 'NNS'), ('realtors', 'NNS'), ('considered', 'VBD'), ('highest', 'JJS'), ('sales', 'NNS'), ('london', 'VBP'), ('hong', 'JJ'), ('kong', 'JJ'), ('france', 'NN'), ('elsewhere', 'RB'), ('they', 'PRP')]\n"
     ]
    }
   ],
   "source": [
    "import json\n",
    "import nltk\n",
    "import re\n",
    "import datetime\n",
    "\n",
    "#Start Timer\n",
    "start_time = datetime.datetime.now()\n",
    "\n",
    "f = open(\"signal-news1.jsonl\",\"r\")\n",
    "\n",
    "data = []\n",
    "\n",
    "for line in f :\n",
    "    temp = json.loads(line).get(\"content\")\n",
    "    \n",
    "    # Lower the characters\n",
    "    temp = temp.lower()\n",
    "    \n",
    "    #Q1.d remove all URLs\n",
    "    rule = re.compile(r\"http(s)?://[-A-Za-z0-9+&@#/%?=~_|!:,.;]+[-A-Za-z0-9+&@#/%=~_|]\")\n",
    "    temp = rule.sub('', temp)\n",
    "    \n",
    "    #Q1.a remove all non-alphacharacters except spaces\n",
    "    rule = re.compile(\"[^a-z0-9 ]\")\n",
    "    temp = rule.sub('',temp)\n",
    "    \n",
    "    #Q1.b remove all words within 3 characters\n",
    "    rule = re.compile(r\"\\b\\w{1,3}\\b\")\n",
    "    temp = rule.sub('', temp)\n",
    "    \n",
    "    #Q1.c remove numbers that are fully made of digits\n",
    "    rule = re.compile(r\"([0-9]+ )\")\n",
    "    temp = rule.sub('', temp)\n",
    "    \n",
    "    \"\"\"    \n",
    "    Q2 POS tagger （not sure）\n",
    "\n",
    "    temp = nltk.word_tokenize(temp)\n",
    "    \n",
    "    temp = nltk.pos_tag(temp)\n",
    "    \"\"\"\n",
    "    \n",
    "    data.append(temp)\n",
    "\n",
    "end_time = datetime.datetime.now()\n",
    "interval = (end_time-start_time).seconds\n",
    "\n",
    "print (interval)\n",
    "\n",
    "print(data[6])"
   ]
  },
  {
   "cell_type": "code",
   "execution_count": null,
   "metadata": {},
   "outputs": [],
   "source": []
  }
 ],
 "metadata": {
  "kernelspec": {
   "display_name": "Python 3",
   "language": "python",
   "name": "python3"
  },
  "language_info": {
   "codemirror_mode": {
    "name": "ipython",
    "version": 3
   },
   "file_extension": ".py",
   "mimetype": "text/x-python",
   "name": "python",
   "nbconvert_exporter": "python",
   "pygments_lexer": "ipython3",
   "version": "3.7.0"
  }
 },
 "nbformat": 4,
 "nbformat_minor": 2
}
