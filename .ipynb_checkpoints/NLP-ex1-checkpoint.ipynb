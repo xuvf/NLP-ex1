{
 "cells": [
  {
   "cell_type": "code",
   "execution_count": null,
   "metadata": {},
   "outputs": [],
   "source": [
    "import json\n",
    "import nltk\n",
    "import re\n",
    "import datetime\n",
    "\n",
    "#Start Timer\n",
    "start_time = datetime.datetime.now()\n",
    "\n",
    "f = open(\"signal-news1.jsonl\",\"r\")\n",
    "\n",
    "data = []\n",
    "\n",
    "for line in f :\n",
    "    temp = json.loads(line).get(\"content\")\n",
    "    \n",
    "    # Lower the characters\n",
    "    temp = temp.lower()\n",
    "    \n",
    "    \n",
    "    #Q4 remove all URLs\n",
    "    rule = re.compile(r\"http(s)?://[-A-Za-z0-9+&@#/%?=~_|!:,.;]+[-A-Za-z0-9+&@#/%=~_|]\")\n",
    "    data[0] = rule.sub('', data[0])\n",
    "    \n",
    "    #Q4 remove all URLs\n",
    "    rule = re.compile(r\"http(s)?://[-A-Za-z0-9+&@#/%?=~_|!:,.;]+[-A-Za-z0-9+&@#/%=~_|]\")\n",
    "    data[0] = rule.sub('', data[0])\n",
    "    \n",
    "    #Q2 remove all words within 3 characters\n",
    "    rule = re.compile(r\"\\b\\w{1,3}\\b\")\n",
    "    data[0] = rule.sub('', data[0])\n",
    "    \n",
    "    #Q3 remove numbers that are fully made of digits\n",
    "    rule = re.compile(r\"([0-9]+ )\")\n",
    "    data[0] = rule.sub('', data[0])\n",
    "    \n",
    "    data.append(temp)\n",
    "\n",
    "end_time = datetime.datetime.now()\n",
    "interval = (end_time-start_time).seconds\n",
    "\n",
    "print (interval)\n",
    "\n",
    "#print(data[0])"
   ]
  }
 ],
 "metadata": {
  "kernelspec": {
   "display_name": "Python 3",
   "language": "python",
   "name": "python3"
  },
  "language_info": {
   "codemirror_mode": {
    "name": "ipython",
    "version": 3
   },
   "file_extension": ".py",
   "mimetype": "text/x-python",
   "name": "python",
   "nbconvert_exporter": "python",
   "pygments_lexer": "ipython3",
   "version": "3.7.0"
  }
 },
 "nbformat": 4,
 "nbformat_minor": 2
}
